{
 "cells": [
  {
   "cell_type": "markdown",
   "metadata": {},
   "source": [
    "# Lecture 4 notebook (Recurrent Neural Networks Example 1: Bit-sequence)\n",
    "## Introduction to TensorFlow and Deep Learning\n",
    "\n",
    "## IADS Summer School 2023\n",
    "\n",
    "### Dr Michael Fairbank, University of Essex, UK\n",
    "\n",
    "- Email: m.fairbank@essex.ac.uk\n",
    "- This is a Jupyter Notebook to accompany Lecture 4 of the course\n",
    "\n"
   ]
  },
  {
   "cell_type": "markdown",
   "metadata": {},
   "source": [
    "## Build a time-sequence test problem\n",
    "\n",
    "- We will simply generate a random sequence of bits\n",
    "- The task for the RNN is simply to memorise these bits after a given delay length.\n",
    "- The longer the delay length, the harder the problem.\n",
    "- E.g. if the input sequence is 1,0,1,1 and the delay length is 2, then the RNN must perform the following:\n",
    "    - time step 0: input =1, output = None\n",
    "    - time step 1: input =0, output = None\n",
    "    - time step 2: input =1, output = 1\n",
    "    - time step 3: input =1, output = 0\n"
   ]
  },
  {
   "cell_type": "code",
   "execution_count": null,
   "metadata": {},
   "outputs": [],
   "source": [
    "# RNN Demo for tensorflow v2.x\n",
    "# Bit-sequence memorization problem\n",
    "# Shows how we can build a RNN using keras to memorise a sequence of bits\n",
    "# Michael Fairbank July 2019\n",
    "\n",
    "import tensorflow as tf\n",
    "import tensorflow.keras as keras\n",
    "import numpy as np\n",
    "\n",
    "\n",
    "trainingSetSize=200\n",
    "delayLength=5 # The longer this is, the more challenging the problem is\n",
    "seqLength=delayLength+50\n",
    "testSetSize=100\n",
    "useXor=False # Set this to true to make the problem significantly harder.\n",
    "\n",
    "def calculateInputOutputSequences(seqLength, batchSize, delayLength, useXor, seed):\n",
    "    np.random.seed(seed)\n",
    "    train_input_sequence=np.random.randint(2, size=(batchSize, seqLength,1)) # a random sequence of bits (0 or 1)\n",
    "    # The objective of this problem is for the RNN to memorize all of the bits shown to the RNN\n",
    "    train_output_targets=train_input_sequence[:,0:seqLength-delayLength,:]  # removes the last \"delayLength\" bits from the bit sequence (since these cannot possibly be remembered)\n",
    "    if useXor:\n",
    "        # for an extra twist of difficulty, we can xor the bit sequence at time t with the bit sequence at time t-delayLength\n",
    "        a=train_output_targets\n",
    "        b=train_input_sequence[:,delayLength:seqLength,:]\n",
    "        train_output_targets=np.bitwise_xor(a,b)\n",
    "    return [train_input_sequence.astype(np.float32),train_output_targets.astype(np.float32)]\n",
    "\n",
    "[train_input_sequence,train_output_targets]=calculateInputOutputSequences(seqLength, trainingSetSize, delayLength, useXor=useXor, seed=1)\n",
    "[test_input_sequence,test_output_targets]=calculateInputOutputSequences(seqLength, testSetSize, delayLength, useXor=useXor, seed=0)\n",
    "print(\"train_input_sequence\",train_input_sequence[0:4].reshape((4,-1)))\n",
    "print(\"train_output_targets\",train_output_targets[0:4].reshape((4,-1)))"
   ]
  },
  {
   "cell_type": "code",
   "execution_count": null,
   "metadata": {},
   "outputs": [],
   "source": [
    "numHiddenNodes=delayLength+3 # this should be enough hidden nodes to solve this problem. Deliberately keeping this small for challenge.\n",
    "num_output_nodes=1\n",
    "\n",
    "layer_recurrent=tf.keras.layers.SimpleRNN(numHiddenNodes,return_sequences=True)\n",
    "#layer_recurrent=tf.keras.layers.LSTM(numHiddenNodes,return_sequences=True)\n",
    "layer_output_layer=tf.keras.layers.Dense(num_output_nodes, activation=tf.nn.sigmoid)\n",
    "layer_clip=tf.keras.layers.Lambda(lambda x: x[:,delayLength:,:])\n",
    "\n",
    "full_recurrent_keras_model=tf.keras.Sequential([layer_recurrent,layer_output_layer,layer_clip])\n",
    "\n",
    "full_recurrent_keras_model(train_input_sequence[0:1]) # we have to run the network once before the trainable_variables are created\n"
   ]
  },
  {
   "cell_type": "code",
   "execution_count": null,
   "metadata": {},
   "outputs": [],
   "source": [
    "optimizer=keras.optimizers.Adam()\n",
    "\n",
    "full_recurrent_keras_model.compile(optimizer=optimizer,  \n",
    "              loss='mse',\n",
    "              metrics=[tf.keras.metrics.BinaryAccuracy()])\n",
    "\n",
    "\n",
    "callback = tf.keras.callbacks.EarlyStopping(monitor='val_binary_accuracy', mode='max',patience=100)# try to make it stop when the accuracy stops increasing.  \n",
    "# see https://www.tensorflow.org/api_docs/python/tf/keras/callbacks/Callback for some more information.\n",
    "\n",
    "history = full_recurrent_keras_model.fit(train_input_sequence, train_output_targets,\n",
    "                batch_size=10,\n",
    "                epochs=500,\n",
    "                validation_data=(test_input_sequence, test_output_targets), callbacks=[callback])"
   ]
  },
  {
   "cell_type": "code",
   "execution_count": null,
   "metadata": {},
   "outputs": [],
   "source": [
    "import matplotlib.pyplot as plt\n",
    "plt.plot(history.history['binary_accuracy'], label='binary_accuracy')\n",
    "plt.plot(history.history['val_binary_accuracy'], label = 'val_binary_accuracy')\n",
    "plt.xlabel('Epoch')\n",
    "plt.ylabel('Accuracy')\n",
    "plt.suptitle(\"Accuracy for delay length \"+str(delayLength)+ (\" with XOR\" if useXor else \"\"), fontsize=12,y=0.93)\n",
    "plt.grid()\n",
    "plt.legend(loc='lower right')\n",
    "plt.show()"
   ]
  },
  {
   "cell_type": "code",
   "execution_count": null,
   "metadata": {},
   "outputs": [],
   "source": [
    "# print the first test pattern's output and label side-by-side for comparison\n",
    "print(np.concatenate([full_recurrent_keras_model(test_input_sequence[0:1]).numpy(),test_output_targets[0:1]],axis=2))\n"
   ]
  }
 ],
 "metadata": {
  "kernelspec": {
   "display_name": "Python 3 (ipykernel)",
   "language": "python",
   "name": "python3"
  },
  "language_info": {
   "codemirror_mode": {
    "name": "ipython",
    "version": 3
   },
   "file_extension": ".py",
   "mimetype": "text/x-python",
   "name": "python",
   "nbconvert_exporter": "python",
   "pygments_lexer": "ipython3",
   "version": "3.10.6"
  }
 },
 "nbformat": 4,
 "nbformat_minor": 4
}
