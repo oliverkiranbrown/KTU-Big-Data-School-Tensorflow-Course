{
 "cells": [
  {
   "cell_type": "markdown",
   "metadata": {
    "slideshow": {
     "slide_type": "slide"
    }
   },
   "source": [
    "# Lecture 1 notebook\n",
    "## Introduction to TensorFlow and Deep Learning\n",
    "\n",
    "## KTU Big Data School 2022\n",
    "\n",
    "### Dr Michael Fairbank, University of Essex, UK\n",
    "\n",
    "- Email: m.fairbank@essex.ac.uk\n",
    "- This is a Jupyter Notebook to accompany Lecture 1 of the course"
   ]
  },
  {
   "cell_type": "markdown",
   "metadata": {
    "slideshow": {
     "slide_type": "slide"
    }
   },
   "source": [
    "### Check Python engine is running\n",
    "\n",
    "You need to check you are on python 3.6 or above"
   ]
  },
  {
   "cell_type": "code",
   "execution_count": 1,
   "metadata": {
    "slideshow": {
     "slide_type": "fragment"
    }
   },
   "outputs": [
    {
     "name": "stdout",
     "output_type": "stream",
     "text": [
      "Hello World\n",
      "Python Version 3.9.13 (main, Aug 25 2022, 18:29:29) \n",
      "[Clang 12.0.0 ]\n"
     ]
    }
   ],
   "source": [
    "print(\"Hello World\")\n",
    "import sys\n",
    "print(\"Python Version\",sys.version)"
   ]
  },
  {
   "cell_type": "markdown",
   "metadata": {},
   "source": [
    "## Check tensorflow version\n",
    "\n",
    "You should see a version > 2.0"
   ]
  },
  {
   "cell_type": "code",
   "execution_count": 4,
   "metadata": {
    "slideshow": {
     "slide_type": "slide"
    }
   },
   "outputs": [
    {
     "name": "stderr",
     "output_type": "stream",
     "text": [
      "2023-07-12 13:31:18.497719: I tensorflow/core/platform/cpu_feature_guard.cc:182] This TensorFlow binary is optimized to use available CPU instructions in performance-critical operations.\n",
      "To enable the following instructions: AVX2 FMA, in other operations, rebuild TensorFlow with the appropriate compiler flags.\n"
     ]
    },
    {
     "name": "stdout",
     "output_type": "stream",
     "text": [
      "2.13.0\n"
     ]
    }
   ],
   "source": [
    "import tensorflow as tf\n",
    "print(tf.__version__)"
   ]
  },
  {
   "cell_type": "markdown",
   "metadata": {},
   "source": [
    "# Lecture slide content for Basic Concepts\n",
    "\n",
    "- Copy the lecture slide contents into the appropriate cells below, run each code block, and check you get the right answer.\n",
    "- There is no need to keep up with all of these in time with the lecture - just do the ones you are curious about for now.  Priorise keeping listening with the lecture and come back to any gaps later.\n"
   ]
  },
  {
   "cell_type": "code",
   "execution_count": 10,
   "metadata": {
    "slideshow": {
     "slide_type": "slide"
    }
   },
   "outputs": [
    {
     "name": "stdout",
     "output_type": "stream",
     "text": [
      "tf.Tensor(2.0, shape=(), dtype=float32)\n",
      "\n",
      "tf.Tensor(3.0, shape=(), dtype=float32)\n",
      "\n",
      "tf.Tensor(5.0, shape=(), dtype=float32)\n",
      "\n",
      "5.0\n"
     ]
    }
   ],
   "source": [
    "# Slide Title: Basic concepts- Tensor scalars, and numpy\n",
    "# Code (TODO)...\n",
    "a = tf.constant(2,tf.float32)\n",
    "print(a)\n",
    "print()\n",
    "\n",
    "b = tf.constant(3,tf.float32)\n",
    "print(b)\n",
    "\n",
    "c = tf.add(a,b)\n",
    "print()\n",
    "print(c)\n",
    "\n",
    "print()\n",
    "print(c.numpy())"
   ]
  },
  {
   "cell_type": "code",
   "execution_count": 11,
   "metadata": {},
   "outputs": [
    {
     "name": "stdout",
     "output_type": "stream",
     "text": [
      "tf.Tensor(\n",
      "[[1 2]\n",
      " [3 4]], shape=(2, 2), dtype=int32)\n",
      "tf.Tensor(\n",
      "[[5 6]\n",
      " [8 9]], shape=(2, 2), dtype=int32)\n",
      "tf.Tensor(\n",
      "[[ 6  8]\n",
      " [11 13]], shape=(2, 2), dtype=int32)\n",
      "[[ 6  8]\n",
      " [11 13]]\n"
     ]
    }
   ],
   "source": [
    "# Slide Title: Basic concepts – tensor addition\n",
    "# Code (TODO)...\n",
    "d = tf.constant([[1,2],[3,4]])\n",
    "print(d)\n",
    "\n",
    "e = tf.constant([[5,6],[8,9]])\n",
    "print(e)\n",
    "\n",
    "f = tf.add(d,e)\n",
    "print(f)\n",
    "\n",
    "print(f.numpy())"
   ]
  },
  {
   "cell_type": "code",
   "execution_count": 13,
   "metadata": {},
   "outputs": [
    {
     "name": "stdout",
     "output_type": "stream",
     "text": [
      "[[1 2]\n",
      " [3 4]]\n",
      "[[5 6]\n",
      " [8 9]]\n",
      "[[ 5 12]\n",
      " [24 36]]\n"
     ]
    }
   ],
   "source": [
    "# Slide Title: Basic concepts – tensor multiplication \n",
    "# Code (TODO)...\n",
    "g = tf.multiply(d,e)\n",
    "print(d.numpy())\n",
    "print(e.numpy())\n",
    "print(g.numpy())"
   ]
  },
  {
   "cell_type": "code",
   "execution_count": 27,
   "metadata": {},
   "outputs": [
    {
     "name": "stdout",
     "output_type": "stream",
     "text": [
      "[[1 2]\n",
      " [3 4]]\n",
      "[[5 6]\n",
      " [8 9]]\n",
      "[[21 24]\n",
      " [47 54]]\n",
      "\n",
      "[[1 2]\n",
      " [3 4]]\n",
      "[[1]\n",
      " [1]]\n",
      "[[3]\n",
      " [7]]\n"
     ]
    }
   ],
   "source": [
    "# Slide Title: Basic concepts – matrix multiplication \n",
    "# Code (TODO)...\n",
    "h = tf.matmul(d,e)\n",
    "print(d.numpy())\n",
    "print(e.numpy())\n",
    "print(h.numpy())\n",
    "print()\n",
    "\n",
    "a = tf.constant([[1,2],[3,4]])\n",
    "b = tf.constant([[1],[1]])\n",
    "c = tf.matmul(a,b)\n",
    "print(a.numpy())\n",
    "print(b.numpy())\n",
    "print(c.numpy())"
   ]
  },
  {
   "cell_type": "code",
   "execution_count": null,
   "metadata": {},
   "outputs": [],
   "source": [
    "# Slide Title: Basic concepts – datatypes\n",
    "# Code (TODO)...\n",
    "a = tf.constant(3.2,tf.float32)\n",
    "b = tf.constant(3,tf.int32)\n",
    "c = tf.constant([1,2,3],tf.float32)\n",
    "d = tf.constant(5) # defaults as int32\n",
    "e = tf.constant(5.0) # defaults as float32\n"
   ]
  },
  {
   "cell_type": "code",
   "execution_count": null,
   "metadata": {},
   "outputs": [],
   "source": []
  },
  {
   "cell_type": "code",
   "execution_count": 35,
   "metadata": {},
   "outputs": [
    {
     "name": "stdout",
     "output_type": "stream",
     "text": [
      "[[1. 2.]\n",
      " [3. 4.]]\n",
      "[[1 2]\n",
      " [3 4]]\n",
      "[ True False  True]\n",
      "[1 0 1]\n"
     ]
    }
   ],
   "source": [
    "# Slide Title: Basic concepts – casting datatypes (1)\n",
    "# Code (TODO)...\n",
    "\n",
    "a = tf.constant([[1,2],[3,4]],tf.float32)\n",
    "print(a.numpy())\n",
    "\n",
    "print(tf.cast(a,tf.int32).numpy())\n",
    "\n",
    "b = tf.constant([True, False, True], tf.bool)\n",
    "\n",
    "print(b.numpy())\n",
    "print(tf.cast(b,tf.int32).numpy())"
   ]
  },
  {
   "cell_type": "code",
   "execution_count": 39,
   "metadata": {},
   "outputs": [
    {
     "name": "stdout",
     "output_type": "stream",
     "text": [
      "6.0\n"
     ]
    }
   ],
   "source": [
    "# Slide Title: Basic concepts – casting datatypes (2)\n",
    "# Code (TODO)...\n",
    "\n",
    "a = tf.constant(3.0,tf.float32)\n",
    "b = tf.constant(3,tf.int32)\n",
    "#c = tf.add(a,b)\n",
    "c = tf.add(a,tf.cast(b,tf.float32))\n",
    "print(c.numpy())"
   ]
  },
  {
   "cell_type": "code",
   "execution_count": null,
   "metadata": {},
   "outputs": [],
   "source": [
    "# Slide Title: Basic concepts – tensor shape (1)\n",
    "# Code (TODO)...\n"
   ]
  },
  {
   "cell_type": "code",
   "execution_count": 40,
   "metadata": {},
   "outputs": [
    {
     "name": "stdout",
     "output_type": "stream",
     "text": [
      "[2 3]\n"
     ]
    }
   ],
   "source": [
    "# Slide Title: Basic concepts – tensor shape (2)\n",
    "# Code (TODO)...\n",
    "\n",
    "a = tf.constant([1,2])\n",
    "b = tf.constant(1)\n",
    "print(tf.add(a,b).numpy())"
   ]
  },
  {
   "cell_type": "code",
   "execution_count": 42,
   "metadata": {},
   "outputs": [
    {
     "name": "stdout",
     "output_type": "stream",
     "text": [
      "[[1 2]\n",
      " [3 4]]\n",
      "[10 20]\n",
      "[[11 22]\n",
      " [13 24]]\n"
     ]
    }
   ],
   "source": [
    "# Slide Title: Basic concepts – tensor shape (3)\n",
    "# Code (TODO)...\n",
    "\n",
    "a = tf.constant([[1,2],[3,4]])\n",
    "b = tf.constant([10,20])\n",
    "print(a.numpy())\n",
    "print(b.numpy())\n",
    "print(tf.add(a,b).numpy())"
   ]
  },
  {
   "cell_type": "code",
   "execution_count": 47,
   "metadata": {},
   "outputs": [
    {
     "name": "stdout",
     "output_type": "stream",
     "text": [
      "[[ 1.  4.]\n",
      " [ 9. 16.]]\n",
      "[[1. 2.]\n",
      " [3. 4.]]\n",
      "[[ 0.5403023  -0.41614684]\n",
      " [-0.9899925  -0.6536436 ]]\n"
     ]
    }
   ],
   "source": [
    "# Slide Title: Elementwise Tensor operations\n",
    "# Code (TODO)...\n",
    "\n",
    "a = tf.constant([[1,2],[3,-4]],tf.float32)\n",
    "print(tf.square(a).numpy())\n",
    "print(tf.abs(a).numpy())\n",
    "print(tf.cos(a).numpy())"
   ]
  },
  {
   "cell_type": "code",
   "execution_count": 49,
   "metadata": {},
   "outputs": [
    {
     "name": "stdout",
     "output_type": "stream",
     "text": [
      "[False  True False]\n",
      "[False  True  True]\n"
     ]
    }
   ],
   "source": [
    "# Slide Title: Comparison Tensor operations\n",
    "# Code (TODO)...\n",
    "\n",
    "a = tf.constant([1,2,3])\n",
    "b = tf.constant([5,1,7])\n",
    "print(tf.greater(a,b).numpy())\n",
    "print(tf.greater(a,1).numpy())"
   ]
  },
  {
   "cell_type": "code",
   "execution_count": 51,
   "metadata": {},
   "outputs": [
    {
     "name": "stdout",
     "output_type": "stream",
     "text": [
      "[ 5  2 21]\n",
      "[[1 2]\n",
      " [3 4]]\n",
      "[[10 20]\n",
      " [ 1  2]]\n",
      "[[10 40]\n",
      " [ 3  8]]\n"
     ]
    }
   ],
   "source": [
    "# Slide Title: Basic concepts – operator shorthand\n",
    "# Code (TODO)...\n",
    "\n",
    "print((a*b).numpy())\n",
    "\n",
    "a = tf.constant([[1,2],[3,4]])\n",
    "b = tf.constant([[10,20],[1,2]])\n",
    "\n",
    "print(a.numpy())\n",
    "print(b.numpy())\n",
    "print((a*b).numpy())"
   ]
  },
  {
   "cell_type": "code",
   "execution_count": 54,
   "metadata": {},
   "outputs": [
    {
     "name": "stdout",
     "output_type": "stream",
     "text": [
      "[0.3]\n",
      "[-1.]\n",
      "[0.3]\n",
      "[-1.]\n"
     ]
    }
   ],
   "source": [
    "# Slide Title: Basic concepts – variables vs. constants (1)\n",
    "# Code (TODO)...\n",
    "\n",
    "W = tf.Variable([0.3],tf.float32)\n",
    "print(W.numpy())\n",
    "W.assign([-1.0])\n",
    "print(W.numpy())\n",
    "\n",
    "x = tf.constant([0.3],tf.float32)\n",
    "print(x.numpy())\n",
    "x = tf.constant([-1],tf.float32)\n",
    "print(x.numpy())"
   ]
  },
  {
   "cell_type": "code",
   "execution_count": 57,
   "metadata": {},
   "outputs": [
    {
     "name": "stdout",
     "output_type": "stream",
     "text": [
      "[1.3]\n",
      "[0.29999995]\n"
     ]
    }
   ],
   "source": [
    "# Slide Title: Basic concepts – variables vs. constants (2)\n",
    "# Code (TODO)...\n",
    "\n",
    "W = tf.Variable([0.3],tf.float32)\n",
    "W.assign_add([1.0])\n",
    "print(W.numpy())\n",
    "W.assign_sub([1.0])\n",
    "print(W.numpy())"
   ]
  },
  {
   "cell_type": "code",
   "execution_count": 63,
   "metadata": {},
   "outputs": [
    {
     "name": "stdout",
     "output_type": "stream",
     "text": [
      "10.0\n",
      "2.5\n",
      "4.0\n"
     ]
    }
   ],
   "source": [
    "# Slide Title: Aggregation functions (1)\n",
    "# Code (TODO)...\n",
    "\n",
    "a = tf.constant([[1,2],[3,4]],tf.float32)\n",
    "\n",
    "print(tf.reduce_sum(a).numpy())\n",
    "print(tf.reduce_mean(a).numpy())\n",
    "print(tf.reduce_max(a).numpy())"
   ]
  },
  {
   "cell_type": "code",
   "execution_count": 5,
   "metadata": {},
   "outputs": [
    {
     "name": "stdout",
     "output_type": "stream",
     "text": [
      "[[1. 2.]\n",
      " [3. 4.]]\n",
      "3.0\n"
     ]
    }
   ],
   "source": [
    "# Slide Title: Aggregation functions (2)\n",
    "# Code (TODO)...\n",
    "\n",
    "a = tf.constant([[1,2],[3,4]],tf.float32)\n",
    "print(a.numpy())\n",
    "print(tf.reduce_sum(tf.cast(a>1,tf.float32)).numpy())"
   ]
  },
  {
   "cell_type": "code",
   "execution_count": 6,
   "metadata": {},
   "outputs": [
    {
     "name": "stdout",
     "output_type": "stream",
     "text": [
      "[1 1]\n"
     ]
    }
   ],
   "source": [
    "# Slide Title: Aggregation functions (3)\n",
    "# Code (TODO)...\n",
    "\n",
    "print(tf.argmax(a).numpy())"
   ]
  },
  {
   "cell_type": "code",
   "execution_count": 10,
   "metadata": {},
   "outputs": [
    {
     "name": "stdout",
     "output_type": "stream",
     "text": [
      "[[1. 2.]\n",
      " [3. 4.]]\n",
      "\n",
      "[4. 6.]\n",
      "\n",
      "[3. 7.]\n"
     ]
    }
   ],
   "source": [
    "# Slide Title: Aggregation functions across an axis (1)\n",
    "# Code (TODO)...\n",
    "\n",
    "print(a.numpy())\n",
    "\n",
    "print()\n",
    "print(tf.reduce_sum(a, axis=0).numpy())\n",
    "\n",
    "print()\n",
    "print(tf.reduce_sum(a, axis=1).numpy())"
   ]
  },
  {
   "cell_type": "code",
   "execution_count": null,
   "metadata": {},
   "outputs": [],
   "source": [
    "# Slide Title: Aggregation functions across an axis (2)\n",
    "# Code (TODO)...\n",
    "\n",
    "# same thing with argmax etc"
   ]
  },
  {
   "cell_type": "code",
   "execution_count": null,
   "metadata": {},
   "outputs": [],
   "source": [
    "# Slide Title: Aggregation functions across an axis (1)\n",
    "# Code (TODO)...\n"
   ]
  },
  {
   "cell_type": "code",
   "execution_count": 11,
   "metadata": {},
   "outputs": [
    {
     "name": "stdout",
     "output_type": "stream",
     "text": [
      "6.0\n"
     ]
    }
   ],
   "source": [
    "# Slide Title: Automatic differentiation (Autodiff) (1)\n",
    "# Code (TODO)...\n",
    "\n",
    "x = tf.Variable(3.0, tf.float32)\n",
    "\n",
    "with tf.GradientTape() as tape:\n",
    "    y = tf.pow(x,2.0)\n",
    "dydx = tape.gradient(y,x)\n",
    "print(dydx.numpy())"
   ]
  },
  {
   "cell_type": "code",
   "execution_count": 12,
   "metadata": {},
   "outputs": [
    {
     "name": "stdout",
     "output_type": "stream",
     "text": [
      "24.0 1.0\n"
     ]
    }
   ],
   "source": [
    "# Slide Title: Automatic differentiation (Autodiff) (3)\n",
    "# Code (TODO)...\n",
    "\n",
    "x = tf.Variable(4.0,tf.float32)\n",
    "y = tf.Variable(2.0,tf.float32)\n",
    "\n",
    "with tf.GradientTape() as tape:\n",
    "    f = tf.pow(x,2.0)*3+y\n",
    "[dfdx, dfdy] = tape.gradient(f,[x, y])\n",
    "print(dfdx.numpy(),dfdy.numpy())"
   ]
  },
  {
   "cell_type": "code",
   "execution_count": 13,
   "metadata": {},
   "outputs": [
    {
     "name": "stdout",
     "output_type": "stream",
     "text": [
      "48.0\n"
     ]
    }
   ],
   "source": [
    "# Slide Title: Automatic differentiation (Autodiff) (4)\n",
    "# Code (TODO)...\n",
    "\n",
    "x = tf.constant(4.0,tf.float32)\n",
    "with tf.GradientTape() as tape:\n",
    "    tape.watch(x)\n",
    "    f = tf.pow(x,3.0)\n",
    "    \n",
    "dfdx = tape.gradient(f,x)\n",
    "print(dfdx.numpy())"
   ]
  },
  {
   "cell_type": "markdown",
   "metadata": {},
   "source": [
    "# Gradient Descent Exercise\n",
    "\n",
    "- In this exercise we will build a gradient descent script to minimise $y = x^2 − 4x + 4$ with respect to $x$.\n",
    "- Please tackle this exercise carefully - this is the main exercise of this lecture!"
   ]
  },
  {
   "cell_type": "markdown",
   "metadata": {},
   "source": [
    "#### Exercise 1:"
   ]
  },
  {
   "cell_type": "code",
   "execution_count": 28,
   "metadata": {},
   "outputs": [
    {
     "name": "stdout",
     "output_type": "stream",
     "text": [
      "iteration: 0 x: 8.4 y: 64.0\n",
      "iteration: 1 x: 7.12 y: 40.95999\n",
      "iteration: 2 x: 6.0959997 y: 26.214397\n",
      "iteration: 3 x: 5.2767997 y: 16.777214\n",
      "iteration: 4 x: 4.62144 y: 10.737415\n",
      "iteration: 5 x: 4.0971518 y: 6.8719482\n",
      "iteration: 6 x: 3.6777215 y: 4.3980446\n",
      "iteration: 7 x: 3.3421772 y: 2.8147497\n",
      "iteration: 8 x: 3.0737417 y: 1.8014393\n",
      "iteration: 9 x: 2.8589933 y: 1.1529207\n",
      "iteration: 10 x: 2.6871946 y: 0.73786926\n",
      "iteration: 11 x: 2.5497556 y: 0.47223663\n",
      "iteration: 12 x: 2.4398046 y: 0.3022313\n",
      "iteration: 13 x: 2.3518436 y: 0.19342804\n",
      "iteration: 14 x: 2.2814748 y: 0.12379408\n",
      "iteration: 15 x: 2.22518 y: 0.079227924\n",
      "iteration: 16 x: 2.1801438 y: 0.05070591\n",
      "iteration: 17 x: 2.144115 y: 0.03245163\n",
      "iteration: 18 x: 2.115292 y: 0.02076912\n",
      "iteration: 19 x: 2.0922337 y: 0.013292313\n",
      "iteration: 20 x: 2.073787 y: 0.008507252\n",
      "iteration: 21 x: 2.0590296 y: 0.0054445267\n",
      "iteration: 22 x: 2.0472236 y: 0.003484726\n",
      "iteration: 23 x: 2.0377789 y: 0.0022301674\n",
      "iteration: 24 x: 2.0302231 y: 0.0014271736\n",
      "iteration: 25 x: 2.0241785 y: 0.00091362\n",
      "iteration: 26 x: 2.019343 y: 0.00058460236\n",
      "iteration: 27 x: 2.0154743 y: 0.00037431717\n",
      "iteration: 28 x: 2.0123794 y: 0.00023937225\n",
      "iteration: 29 x: 2.0099034 y: 0.00015306473\n",
      "iteration: 30 x: 2.0079226 y: 9.8228455e-05\n",
      "iteration: 31 x: 2.0063381 y: 6.2942505e-05\n",
      "iteration: 32 x: 2.0050704 y: 4.005432e-05\n",
      "iteration: 33 x: 2.0040565 y: 2.5749207e-05\n",
      "iteration: 34 x: 2.003245 y: 1.66893e-05\n",
      "iteration: 35 x: 2.0025961 y: 1.04904175e-05\n",
      "iteration: 36 x: 2.0020769 y: 6.67572e-06\n",
      "iteration: 37 x: 2.0016615 y: 4.2915344e-06\n",
      "iteration: 38 x: 2.0013292 y: 2.861023e-06\n",
      "iteration: 39 x: 2.0010633 y: 1.9073486e-06\n",
      "iteration: 40 x: 2.0008507 y: 9.536743e-07\n",
      "iteration: 41 x: 2.0006804 y: 9.536743e-07\n",
      "iteration: 42 x: 2.0005443 y: 4.7683716e-07\n",
      "iteration: 43 x: 2.0004354 y: 4.7683716e-07\n",
      "iteration: 44 x: 2.0003483 y: 0.0\n",
      "iteration: 45 x: 2.0002787 y: 0.0\n",
      "iteration: 46 x: 2.000223 y: 0.0\n",
      "iteration: 47 x: 2.0001783 y: 0.0\n",
      "iteration: 48 x: 2.0001426 y: 0.0\n",
      "iteration: 49 x: 2.000114 y: 0.0\n"
     ]
    },
    {
     "data": {
      "image/png": "[encoded data removed]",
      "text/plain": [
       "<Figure size 640x480 with 1 Axes>"
      ]
     },
     "metadata": {},
     "output_type": "display_data"
    }
   ],
   "source": [
    "# Slide Title: Example 1D Gradient Descent problem\n",
    "# Complete the 3 TODOs below and run the code to solve the minimisation challenge...\n",
    "import tensorflow as tf\n",
    "import matplotlib.pyplot as plt \n",
    "import numpy as np\n",
    "\n",
    "eta = 0.1 # learning rate\n",
    "x = tf.Variable(10.0, tf.float32) # arbitrary initial value\n",
    "\n",
    "for i in range(50):\n",
    "    with tf.GradientTape() as tape:\n",
    "        y=tf.pow(x,2.0)-4*x+4\n",
    "    dydx=tape.gradient(y,x)\n",
    "    x.assign(x-eta*dydx)\n",
    "    print(\"iteration:\",i, \"x:\", x.numpy(), \"y:\", y.numpy())\n",
    "    plt.scatter(x.numpy(),y.numpy())\n",
    "    \n",
    "t = np.arange(-4,10)\n",
    "f = t*t-4*t+4\n",
    "plt.plot(t,f)\n",
    "plt.show()"
   ]
  },
  {
   "cell_type": "markdown",
   "metadata": {},
   "source": [
    "## Optimised versions of Gradient Descent Exercise\n",
    "\n",
    "- Now we will repeat the above exercise (and hopefully get exactly the same results again)\n",
    "- But now we will use some higher-level TensorFlow functions..."
   ]
  },
  {
   "cell_type": "markdown",
   "metadata": {},
   "source": [
    "#### Exercise 1, Version 2:"
   ]
  },
  {
   "cell_type": "code",
   "execution_count": 31,
   "metadata": {},
   "outputs": [
    {
     "name": "stdout",
     "output_type": "stream",
     "text": [
      "iteration: 0 x: 8.4 y: 64.0\n",
      "iteration: 1 x: 7.12 y: 40.95999\n",
      "iteration: 2 x: 6.0959997 y: 26.214397\n",
      "iteration: 3 x: 5.2767997 y: 16.777214\n",
      "iteration: 4 x: 4.62144 y: 10.737415\n",
      "iteration: 5 x: 4.0971518 y: 6.8719482\n",
      "iteration: 6 x: 3.6777215 y: 4.3980446\n",
      "iteration: 7 x: 3.3421772 y: 2.8147497\n",
      "iteration: 8 x: 3.0737417 y: 1.8014393\n",
      "iteration: 9 x: 2.8589933 y: 1.1529207\n",
      "iteration: 10 x: 2.6871946 y: 0.73786926\n",
      "iteration: 11 x: 2.5497556 y: 0.47223663\n",
      "iteration: 12 x: 2.4398046 y: 0.3022313\n",
      "iteration: 13 x: 2.3518436 y: 0.19342804\n",
      "iteration: 14 x: 2.2814748 y: 0.12379408\n",
      "iteration: 15 x: 2.22518 y: 0.079227924\n",
      "iteration: 16 x: 2.1801438 y: 0.05070591\n",
      "iteration: 17 x: 2.144115 y: 0.03245163\n",
      "iteration: 18 x: 2.115292 y: 0.02076912\n",
      "iteration: 19 x: 2.0922337 y: 0.013292313\n",
      "iteration: 20 x: 2.073787 y: 0.008507252\n",
      "iteration: 21 x: 2.0590296 y: 0.0054445267\n",
      "iteration: 22 x: 2.0472236 y: 0.003484726\n",
      "iteration: 23 x: 2.0377789 y: 0.0022301674\n",
      "iteration: 24 x: 2.0302231 y: 0.0014271736\n",
      "iteration: 25 x: 2.0241785 y: 0.00091362\n",
      "iteration: 26 x: 2.019343 y: 0.00058460236\n",
      "iteration: 27 x: 2.0154743 y: 0.00037431717\n",
      "iteration: 28 x: 2.0123794 y: 0.00023937225\n",
      "iteration: 29 x: 2.0099034 y: 0.00015306473\n",
      "iteration: 30 x: 2.0079226 y: 9.8228455e-05\n",
      "iteration: 31 x: 2.0063381 y: 6.2942505e-05\n",
      "iteration: 32 x: 2.0050704 y: 4.005432e-05\n",
      "iteration: 33 x: 2.0040565 y: 2.5749207e-05\n",
      "iteration: 34 x: 2.003245 y: 1.66893e-05\n",
      "iteration: 35 x: 2.0025961 y: 1.04904175e-05\n",
      "iteration: 36 x: 2.0020769 y: 6.67572e-06\n",
      "iteration: 37 x: 2.0016615 y: 4.2915344e-06\n",
      "iteration: 38 x: 2.0013292 y: 2.861023e-06\n",
      "iteration: 39 x: 2.0010633 y: 1.9073486e-06\n",
      "iteration: 40 x: 2.0008507 y: 9.536743e-07\n",
      "iteration: 41 x: 2.0006804 y: 9.536743e-07\n",
      "iteration: 42 x: 2.0005443 y: 4.7683716e-07\n",
      "iteration: 43 x: 2.0004354 y: 4.7683716e-07\n",
      "iteration: 44 x: 2.0003483 y: 0.0\n",
      "iteration: 45 x: 2.0002787 y: 0.0\n",
      "iteration: 46 x: 2.000223 y: 0.0\n",
      "iteration: 47 x: 2.0001783 y: 0.0\n",
      "iteration: 48 x: 2.0001426 y: 0.0\n",
      "iteration: 49 x: 2.000114 y: 0.0\n"
     ]
    },
    {
     "data": {
      "image/png": "[encoded data removed]",
      "text/plain": [
       "<Figure size 640x480 with 1 Axes>"
      ]
     },
     "metadata": {},
     "output_type": "display_data"
    }
   ],
   "source": [
    "# Slide Title: Optimised Version (Exercise 1, Version 2)\n",
    "# Code (TODO)...\n",
    "\n",
    "import tensorflow as tf\n",
    "import matplotlib.pyplot as plt \n",
    "import numpy as np\n",
    "\n",
    "eta = 0.1 # learning rate\n",
    "x = tf.Variable(10.0, tf.float32) # arbitrary initial value\n",
    "\n",
    "@tf.function\n",
    "def do_update(x):\n",
    "    with tf.GradientTape() as tape:\n",
    "        y=tf.pow(x,2.0)-4*x+4\n",
    "    dydx=tape.gradient(y,x)\n",
    "    x.assign(x-eta*dydx)\n",
    "    return y\n",
    "\n",
    "for i in range(50):\n",
    "    y = do_update(x)\n",
    "    print(\"iteration:\",i, \"x:\", x.numpy(), \"y:\", y.numpy())\n",
    "    plt.scatter(x,y)\n",
    "    \n",
    "t = np.arange(-4,10)\n",
    "f = t*t-4*t+4\n",
    "plt.plot(t,f)\n",
    "plt.show()\n"
   ]
  },
  {
   "cell_type": "markdown",
   "metadata": {},
   "source": [
    "#### Exercise 1, Version 3:"
   ]
  },
  {
   "cell_type": "code",
   "execution_count": 36,
   "metadata": {},
   "outputs": [
    {
     "name": "stdout",
     "output_type": "stream",
     "text": [
      "iteration: 0 x: 8.4 y: 40.95999\n",
      "iteration: 1 x: 7.12 y: 26.214397\n",
      "iteration: 2 x: 6.0959997 y: 16.777214\n",
      "iteration: 3 x: 5.2767997 y: 10.737415\n",
      "iteration: 4 x: 4.62144 y: 6.8719482\n",
      "iteration: 5 x: 4.0971518 y: 4.3980446\n",
      "iteration: 6 x: 3.6777215 y: 2.8147497\n",
      "iteration: 7 x: 3.3421772 y: 1.8014393\n",
      "iteration: 8 x: 3.0737417 y: 1.1529207\n",
      "iteration: 9 x: 2.8589933 y: 0.73786926\n",
      "iteration: 10 x: 2.6871946 y: 0.47223663\n",
      "iteration: 11 x: 2.5497556 y: 0.3022313\n",
      "iteration: 12 x: 2.4398046 y: 0.19342804\n",
      "iteration: 13 x: 2.3518436 y: 0.12379408\n",
      "iteration: 14 x: 2.2814748 y: 0.079227924\n",
      "iteration: 15 x: 2.22518 y: 0.05070591\n",
      "iteration: 16 x: 2.1801438 y: 0.03245163\n",
      "iteration: 17 x: 2.144115 y: 0.02076912\n",
      "iteration: 18 x: 2.115292 y: 0.013292313\n",
      "iteration: 19 x: 2.0922337 y: 0.008507252\n",
      "iteration: 20 x: 2.073787 y: 0.0054445267\n",
      "iteration: 21 x: 2.0590296 y: 0.003484726\n",
      "iteration: 22 x: 2.0472236 y: 0.0022301674\n",
      "iteration: 23 x: 2.0377789 y: 0.0014271736\n",
      "iteration: 24 x: 2.0302231 y: 0.00091362\n",
      "iteration: 25 x: 2.0241785 y: 0.00058460236\n",
      "iteration: 26 x: 2.019343 y: 0.00037431717\n",
      "iteration: 27 x: 2.0154743 y: 0.00023937225\n",
      "iteration: 28 x: 2.0123794 y: 0.00015306473\n",
      "iteration: 29 x: 2.0099034 y: 9.8228455e-05\n",
      "iteration: 30 x: 2.0079226 y: 6.2942505e-05\n",
      "iteration: 31 x: 2.0063381 y: 4.005432e-05\n",
      "iteration: 32 x: 2.0050704 y: 2.5749207e-05\n",
      "iteration: 33 x: 2.0040565 y: 1.66893e-05\n",
      "iteration: 34 x: 2.003245 y: 1.04904175e-05\n",
      "iteration: 35 x: 2.0025961 y: 6.67572e-06\n",
      "iteration: 36 x: 2.0020769 y: 4.2915344e-06\n",
      "iteration: 37 x: 2.0016615 y: 2.861023e-06\n",
      "iteration: 38 x: 2.0013292 y: 1.9073486e-06\n",
      "iteration: 39 x: 2.0010633 y: 9.536743e-07\n",
      "iteration: 40 x: 2.0008507 y: 9.536743e-07\n",
      "iteration: 41 x: 2.0006804 y: 4.7683716e-07\n",
      "iteration: 42 x: 2.0005443 y: 4.7683716e-07\n",
      "iteration: 43 x: 2.0004354 y: 0.0\n",
      "iteration: 44 x: 2.0003483 y: 0.0\n",
      "iteration: 45 x: 2.0002787 y: 0.0\n",
      "iteration: 46 x: 2.000223 y: 0.0\n",
      "iteration: 47 x: 2.0001783 y: 0.0\n",
      "iteration: 48 x: 2.0001426 y: 0.0\n",
      "iteration: 49 x: 2.000114 y: 0.0\n"
     ]
    }
   ],
   "source": [
    "# Slide Title: Using a built-in optimizer\n",
    "# Code (TODO)...\n",
    "\n",
    "import tensorflow as tf\n",
    "\n",
    "eta = 0.1\n",
    "x = tf.Variable(10.0, tf.float32)\n",
    "\n",
    "optimizer = tf.keras.optimizers.SGD(eta)\n",
    "def calc_y():\n",
    "    y = tf.pow(x,2.0) - 4.0*x+4.0\n",
    "    return y\n",
    "\n",
    "for i in range(50):\n",
    "    optimizer.minimize(calc_y, [x])\n",
    "    print(\"iteration:\",i, \"x:\", x.numpy(), \"y:\", calc_y().numpy())"
   ]
  },
  {
   "cell_type": "markdown",
   "metadata": {
    "slideshow": {
     "slide_type": "slide"
    }
   },
   "source": [
    "## End of lecture 1\n"
   ]
  }
 ],
 "metadata": {
  "kernelspec": {
   "display_name": "Python 3 (ipykernel)",
   "language": "python",
   "name": "python3"
  },
  "language_info": {
   "codemirror_mode": {
    "name": "ipython",
    "version": 3
   },
   "file_extension": ".py",
   "mimetype": "text/x-python",
   "name": "python",
   "nbconvert_exporter": "python",
   "pygments_lexer": "ipython3",
   "version": "3.9.13"
  }
 },
 "nbformat": 4,
 "nbformat_minor": 4
}
